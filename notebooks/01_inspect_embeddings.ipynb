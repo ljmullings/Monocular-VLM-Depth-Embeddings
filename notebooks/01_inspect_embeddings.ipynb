{
  "cells": [
    {
      "cell_type": "markdown",
      "metadata": {},
      "source": [
        "# Embedding Inspection Notebook\n",
        "\n",
        "This notebook provides tools for inspecting and analyzing MVDE embeddings.\n"
      ]
    },
    {
      "cell_type": "code",
      "execution_count": null,
      "metadata": {},
      "outputs": [],
      "source": [
        "import sys\n",
        "from pathlib import Path\n",
        "\n",
        "# Add src to path\n",
        "sys.path.insert(0, str(Path.cwd().parent / \"src\"))\n",
        "\n",
        "import numpy as np\n",
        "import matplotlib.pyplot as plt\n",
        "import seaborn as sns\n",
        "from PIL import Image\n",
        "\n",
        "from mvde.utils.viz import visualize_embeddings, plot_depth_overlay\n",
        "from mvde.io.serialization import load_embeddings\n",
        "from mvde.pipelines.infer import InferencePipeline\n",
        "from mvde.utils.config import load_config\n"
      ]
    }
  ],
  "metadata": {
    "language_info": {
      "name": "python"
    }
  },
  "nbformat": 4,
  "nbformat_minor": 2
}
